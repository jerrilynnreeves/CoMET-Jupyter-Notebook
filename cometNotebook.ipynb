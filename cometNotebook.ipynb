{
 "cells": [
  {
   "cell_type": "markdown",
   "metadata": {
    "tags": []
   },
   "source": [
    "# Comet APIs\n",
    "## Methods\n",
    "\n",
    "Method | HTTP request | Description\n",
    "------------- | ------------- | -------------\n",
    "[**create**](#create) | **POST** /metadata/import | Create/Import\n",
    "[**delete**](#delete) | **DELETE** /metadata/{uuid} | Delete\n",
    "[**export**](#export) | **GET** /metadata/{uuid} | Read/Export\n",
    "[**search**](#search) | **GET** /metadata/search | Search\n",
    "[**update**](#update) | **PUT** /metadata/{uuid} | Update\n",
    "[**validate**](#validate) | **GET** /metadata/validate/{uuid} | Validate\n",
    "\n",
    "## Prerequisites\n",
    "* * *\n",
    "- Python 3.9\n",
    "- You must have a CoMET user account. Current accounts are only available to those with a noaa.gov email address\n",
    "- Your account must be assigned a Record Group\n",
    "- Your account must be assigned the correct permissions for that record group\n",
    "\n",
    "### Python packages used in comet_api.py\n",
    "- getpass\n",
    "- requests\n",
    "- json\n",
    "- urllib.parse import urlparse\n",
    "- sys import exit\n",
    "- os.path import exists\n",
    "\n",
    "## Query Parameters\n",
    "You will be asked if you would like to change the default query parameter values. Type ```n``` to keep the parameter query values displayed. Type ```y``` to change these values. \n",
    "\n",
    "You will then be able to do the following \n",
    "- type ```keep``` to keep the values\n",
    "- hit ```enter``` to delete the parameter value\n",
    "- ```type a new value``` to query "
   ]
  },
  {
   "cell_type": "markdown",
   "metadata": {
    "tags": []
   },
   "source": [
    "## < START HERE > \n",
    "* * *\n",
    "#### Login, create session, and import API methods\n",
    "You will be prompted to enter your username, password, and Record Group"
   ]
  },
  {
   "cell_type": "code",
   "execution_count": null,
   "metadata": {
    "tags": []
   },
   "outputs": [],
   "source": [
    "# Click play to set-up your API session & methods\n",
    "from comet_api import *\n",
    "import json"
   ]
  },
  {
   "cell_type": "markdown",
   "metadata": {},
   "source": [
    "### <a id=\"search\"></a>Search a Record Group\n",
    "* * *\n",
    "\n",
    "This function will search for records within a Record Group and return each record's UUID, file identifier, and record name.\n",
    "\n",
    "#### Parameters\n",
    "\n",
    "\n",
    "Name | Type | Description  | Notes\n",
    "------------- | ------------- | ------------- | -------------\n",
    "**recordGroup** | **str**| The record group, which may represent a Web Accessible Folder (WAF) that contains 1 or more ISO metadata records stored in CoMET. | **Required**\n",
    "**editState** | **str**| Status of record. | optional \n",
    "**format** | **str**| Response format. This parameter does not change the format of metadata documents/data. Use the transform parameter instead | optional [default to json]\n",
    "**max** | **int**| Maximum number of records to return | optional [default to 5000]\n",
    "**offset** | **int**| Number of records to exclude from the responses first N items. Use with max to request a set of items. Offset is applied before the max parameter regardless of its position in the request.  | optional [default to 1]\n",
    "**since** | **date**| Return metadata records updated since this date. Requires yyyy-MM-dd format | optional "
   ]
  },
  {
   "cell_type": "code",
   "execution_count": null,
   "metadata": {},
   "outputs": [],
   "source": [
    "# Searches for a record group\n",
    "searchResults = search()\n",
    "\n",
    "try:\n",
    "    # Pretty prints a json object \n",
    "    parsed = json.loads(searchResults)\n",
    "    print(json.dumps(parsed, indent=4))\n",
    "except:\n",
    "    # prints other formats\n",
    "    print(searchResults)"
   ]
  },
  {
   "cell_type": "markdown",
   "metadata": {
    "tags": []
   },
   "source": [
    "### <a id=\"validate\"></a>Validate a Record\n",
    "* * *\n",
    "\n",
    "This function will take a record located in the uploads folder and validate it according to the ISO 19115-2 standard\n",
    "\n",
    "#### Parameters\n",
    "\n",
    "Name | Type | Description  | Notes\n",
    "------------- | ------------- | ------------- | -------------\n",
    " **uuid** | **str**| Universally Unique Identifier. Use this query parameter if you create your own UUIDs. Otherwise, the system will generate one for you.  | **Required**\n",
    " **transform** | **str**| Type of transformation to apply to the metadata record. Please review the section title Transformations for more detail. | **Required** [defaults to convert-comet-to-iso19115-2]\n",
    " **format** | **str**| Response format. This parameter does not change the format of metadata documents/data. Use the transform parameter instead | optional [defaults to json]] "
   ]
  },
  {
   "cell_type": "code",
   "execution_count": null,
   "metadata": {},
   "outputs": [],
   "source": [
    "# Validate an ISO Record\n",
    "validateResults = validate()\n",
    "\n",
    "try:\n",
    "    # Pretty prints a json object \n",
    "    parsed = json.loads(validateResults)\n",
    "    print(json.dumps(parsed, indent=4))\n",
    "except:\n",
    "    # prints other formats\n",
    "    print(validateResults)"
   ]
  },
  {
   "cell_type": "markdown",
   "metadata": {},
   "source": [
    "### <a id=\"create\"></a>Import/Create\n",
    "* * * \n",
    "Create new new metadata record. Expects and ISO 19115-2 xml document\n",
    "- Place your xml files in the uploads directory\n",
    "- If you use the testing file (test-import.xml), make sure to change the fileIdentifier located between <gco:CharacterString> each time you attempt to upload the file. \n",
    "\n",
    "    ```\n",
    "    <gmd:fileIdentifier>\n",
    "      <gco:CharacterString>api:testing:file:001</gco:CharacterString>\n",
    "    </gmd:fileIdentifier>\n",
    "    ```\n",
    "\n",
    "#### Parameters\n",
    "\n",
    "Name | Type | Description  | Notes\n",
    "------------- | ------------- | ------------- | -------------\n",
    " **body** | **document** | Accepts XML document in Comet Format XML or ISO 19115-2 XML. Default Comet Format XML. To change, use the transform parameter | ***Required***\n",
    " **record_group** | **str** | The record group, which may represent a Web Accessible Folder (WAF) that contains 1 or more ISO metadata records stored in CoMET. | ***Required***\n",
    " **description** | **str** | Title of the record in the CoMET database | ***Required***\n",
    " **transform** | **str**| Type of transformation to apply to the metadata record. Please review the section title Transformations for more detail. | ***Required*** [defaults to convert-iso19115-2-comet]\n",
    " **uuid** | **str** | Universally Unique Identifier. For import, Use this query parameter if you create your own UUIDs. Otherwise, the system will generate one for you.  | optional\n",
    " **edit_state** | **str** | Status of record. | optional\n",
    " **format** | **str**| Response format. This parameter does not change the format of metadata documents/data. Use the transform parameter instead | optional [defaults to json]"
   ]
  },
  {
   "cell_type": "code",
   "execution_count": null,
   "metadata": {},
   "outputs": [],
   "source": [
    "# Import/Create a single record with an ISO 19115-2 xml document\n",
    "\n",
    "createResults = create()\n",
    "\n",
    "try:\n",
    "    # Pretty prints a json object \n",
    "    parsed = json.loads(createResults)\n",
    "    print(json.dumps(parsed, indent=4))\n",
    "except:\n",
    "    # prints other formats\n",
    "    print(createResults)"
   ]
  },
  {
   "cell_type": "markdown",
   "metadata": {},
   "source": [
    "### <a id=\"delete\"></a>Delete a Record\n",
    "* * *\n",
    "#### Parameters\n",
    "\n",
    "Name | Type | Description  | Notes\n",
    "------------- | ------------- | ------------- | -------------\n",
    " **uuid** | **str**| Universally Unique Identifier assigned to the record | ***Required***\n",
    " **format** | **str**| Response format. This parameter does not change the format of metadata documents/data. Use the transform parameter instead | optional"
   ]
  },
  {
   "cell_type": "code",
   "execution_count": null,
   "metadata": {},
   "outputs": [],
   "source": [
    "# Delete a single record \n",
    "\n",
    "deleteResults = delete()\n",
    "\n",
    "try:\n",
    "    # Pretty prints a json object \n",
    "    parsed = json.loads(deleteResults)\n",
    "    print(json.dumps(parsed, indent=4))\n",
    "except:\n",
    "    # prints other formats\n",
    "    print(deleteResults)"
   ]
  },
  {
   "cell_type": "markdown",
   "metadata": {},
   "source": [
    "### <a id=\"update\"></a>Update a Record\n",
    "* * *\n",
    "Update your metadata record. Expects and ISO 19115-2 xml documennt and UUID of the document\n",
    "- Make sure your updated xml file is in the uploads directory\n",
    "#### Parameters\n",
    "\n",
    "Name | Type | Description  | Notes\n",
    "------------- | ------------- | ------------- | -------------\n",
    " **body** | **document**  | Accepts XML document in Comet Format XML or ISO 19115-2 XML. Default Comet Format XML. To change, use the transform parameter | **Required**\n",
    " **transform** | **str**  | Type of transformation to apply to the metadata record. Please review the section title Transformations for more detail. | **Required** [defaults to convert-iso19115-2-to-comet]\n",
    " **uuid** | **str**| Universally Unique Identifier.   | **Required** \n",
    " **description** | **str**| Title of the record in the CoMET database. Including this parameter will edit the title of your record | optional \n",
    " **edit_state** | **str**| Status of record. | optional \n",
    " **format** | **str**| Response format. This parameter does not change the format of metadata documents/data. Use the transform parameter instead | optional [defaults to json] "
   ]
  },
  {
   "cell_type": "code",
   "execution_count": null,
   "metadata": {},
   "outputs": [],
   "source": [
    "# Update a record \n",
    "\n",
    "updateResults = update()\n",
    "\n",
    "try:\n",
    "    # Pretty prints a json object \n",
    "    parsed = json.loads(updateResults)\n",
    "    print(json.dumps(parsed, indent=4))\n",
    "except:\n",
    "    # prints other formats\n",
    "    print(updateResults)"
   ]
  },
  {
   "cell_type": "markdown",
   "metadata": {},
   "source": [
    "### <a id=\"export\"></a>Export a Record\n",
    "* * *\n",
    "Export a record to the exports directory\n",
    "- Default export format is ISO 19115-2 \n",
    "#### Parameters\n",
    "Name | Type | Description  | Notes\n",
    "------------- | ------------- | ------------- | -------------\n",
    " **uuid** | **str**| Universally Unique Identifier assigned to the record  | **Required**\n",
    " **transform** | **str**| Type of transformation to apply to the metadata record. Please review the section title Transformations for more detail. | optional [defaults to convert-comet-to-iso19115-2]\n",
    " **format** | **str**| Response format. This parameter does not change the format of metadata documents/data. Use the transform parameter instead | optional [defaults to json]"
   ]
  },
  {
   "cell_type": "code",
   "execution_count": null,
   "metadata": {},
   "outputs": [],
   "source": [
    "# Export a record \n",
    "\n",
    "exportResults = export()\n",
    "\n",
    "try:\n",
    "    # Pretty prints a json object \n",
    "    parsed = json.loads(exportResults)\n",
    "    print(json.dumps(parsed, indent=4))\n",
    "except:\n",
    "    # prints other formats\n",
    "    print(exportResults)"
   ]
  }
 ],
 "metadata": {
  "kernelspec": {
   "display_name": "Python 3 (ipykernel)",
   "language": "python",
   "name": "python3"
  },
  "language_info": {
   "codemirror_mode": {
    "name": "ipython",
    "version": 3
   },
   "file_extension": ".py",
   "mimetype": "text/x-python",
   "name": "python",
   "nbconvert_exporter": "python",
   "pygments_lexer": "ipython3",
   "version": "3.9.13"
  },
  "toc-autonumbering": false,
  "toc-showcode": false,
  "toc-showmarkdowntxt": false,
  "toc-showtags": false,
  "vscode": {
   "interpreter": {
    "hash": "ac2eaa0ea0ebeafcc7822e65e46aa9d4f966f30b695406963e145ea4a91cd4fc"
   }
  }
 },
 "nbformat": 4,
 "nbformat_minor": 4
}
