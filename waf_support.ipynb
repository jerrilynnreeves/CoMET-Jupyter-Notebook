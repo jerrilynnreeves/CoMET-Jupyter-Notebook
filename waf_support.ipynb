{
 "cells": [
  {
   "cell_type": "markdown",
   "metadata": {},
   "source": [
    "# Publish Report\n",
    "* * * "
   ]
  },
  {
   "cell_type": "code",
   "execution_count": null,
   "metadata": {},
   "outputs": [],
   "source": [
    "# Get the data to be processed and get overall stats\n",
    "# If using mybinder you cannot query the dev or test endpoints (change BASE_URL to dev or test tiers)\n",
    "import requests\n",
    "import json\n",
    "from datetime import date\n",
    "import pandas as pd\n",
    "from pprint import pprint\n",
    "\n",
    "# Get publish report for a WAF\n",
    "# public endpoint does not require auth\n",
    "\n",
    "BASE_URL = \"https://data.noaa.gov/waf\"\n",
    "\n",
    "filename = \"PublishReport.txt\"  # leave PublishReport.txt if you want to grab a file and save manually from a waf\n",
    "                                # set to '' if you want to be prompted or use API Primarly; ignore if using API\n",
    "record_group = 'NOAA/NESDIS/ncei/oer/'  # set to '' if you wanted to be promoted to select;\n",
    "                                        # set to a your record group/waf name if you have only one WAF\n",
    "                                        # ignored if you use file \n",
    "\n",
    "request_type = \"file\"   # file retrieves the file named in the parameter file name - ignores variable record group; \n",
    "                        # api will find a record group waf at data.nooa.gov/waf/ - ignores variable filename\n",
    "\n",
    "# will prompt if you set request_type to ''\n",
    "if not request_type:\n",
    "    request_type = input(\"Enter 'file' to manually download a file to disk as PublishReport.txt. Or, enter API to query API\")\n",
    "\n",
    "# # Testing a file with more variety -- notebook not fully functional until OSIM is on PROD\n",
    "# filename = \"PublishReport.txt\"\n",
    "# record_group = ''\n",
    "\n",
    "if request_type == \"file\":\n",
    "    filename = \"PublishReport.txt\"\n",
    "else:\n",
    "    if not record_group:\n",
    "        record_group = input(\"Enter d record group name\")\n",
    "        filename = record_group\n",
    "\n",
    "WAF_URL = f\"{BASE_URL}/{record_group}/iso/reports/PublishReport.txt\"\n",
    "date = date.today()\n",
    "\n",
    "def process_file(resp):\n",
    "    log_dict = {}\n",
    "    # Do I really need registery and search -- why are there two, will one show up and the other not if there is a problem ?\n",
    "    osim_registery = \"OSIM Details: https://data.dev.ncei.noaa.gov/onestop/api/registry/metadata/collection/comet/\"\n",
    "    osim_search = \"OSIM Details: https://data.dev.ncei.noaa.gov/onestop/collections/details/\"\n",
    "    error_uuid = \"...Register Lookup Error 204:uuid already in use \"\n",
    "    error_osim = \"...OSIM registry web service is down...\"\n",
    "\n",
    "\n",
    "    for line in resp:\n",
    "        # Do \"OSIM Details\" if you want both messages for now just doing osim_search\n",
    "        if line.startswith(osim_search):\n",
    "            search_term =  osim_registery if line.startswith(osim_registery) else osim_search\n",
    "            process_type =  \"Register\" if line.startswith(osim_registery) else \"Search\"\n",
    "\n",
    "            log_item = (line.strip('\\n').split(search_term).pop(1)).split(\"    \")\n",
    "            if log_dict:\n",
    "                yield log_dict\n",
    "            log_dict = {\"process_type\":process_type,\n",
    "                            \"uuid\":log_item[0],\n",
    "                            \"filename\":log_item[1],\n",
    "                            \"message\": \"success\"}\n",
    "        elif line.startswith(\"Error\"):\n",
    "            search_term =  error_uuid if line.find(error_uuid) > -1  else error_osim\n",
    "            process_type =  \"UUID already in use\" if line.find(error_uuid) > -1 else \"Error OSIM\"\n",
    "            osim_error = \"Bad UUID\"\n",
    "        \n",
    "            if process_type == \"Error OSIM\":\n",
    "                osim_error = \"Service Unavailable\" if line.find(\"503 Service Unavailable\") > -1 else \"500 Server Error\"\n",
    "            log_item = (line.strip('\\n')).strip(\"Error processing \").split(search_term)\n",
    "            if log_dict:\n",
    "                yield log_dict\n",
    "                \n",
    "                log_dict = {\"process_type\":process_type,\n",
    "                                \"uuid\": \"\" if osim_error != \"Bad UUID\" else log_item[1],\n",
    "                                \"filename\":log_item[0],\n",
    "                                \"message\": osim_error}\n",
    "\n",
    "    yield log_dict\n",
    "\n",
    "def getPulishData (request_type):\n",
    "    # Retreives file from URL -- test with local file below for now\n",
    "    # print(WAF_URL)\n",
    "    # resp = requests.get(WAF_URL, allow_redirects=True)\n",
    "    # if resp.status_code == 200:\n",
    "    #    with open(filename, 'wb') as f:\n",
    "    #        f.write(resp.content)\n",
    "    \n",
    "    with open(filename) as f:\n",
    "        publish_report = list(process_file(f))\n",
    "\n",
    "    return publish_report\n",
    "\n",
    "raw_data = list(getPulishData(request_type));\n",
    "publish_results = pd.DataFrame.from_dict(raw_data)\n",
    "publish_results.set_index(publish_results.columns[-2], inplace=True)\n",
    "publish_results.sort_values(by='filename',ascending=True,inplace=True)\n",
    "print(\"Total Records Processed:\", len(publish_results))\n",
    "print(\"____________________________________________\")\n",
    "stats = publish_results.groupby(['message'], sort=False).size().reset_index(name='Count')\n",
    "print(stats.to_string())"
   ]
  },
  {
   "cell_type": "markdown",
   "metadata": {},
   "source": [
    "## Bad UUIDs\n",
    "* * *"
   ]
  },
  {
   "cell_type": "code",
   "execution_count": null,
   "metadata": {},
   "outputs": [],
   "source": [
    "# BAD UUIDS - Did not register because UUIDs already exist\n",
    "bad_uuid = publish_results.query('message == \"Bad UUID\"')\n",
    "\n",
    "styles = [\n",
    "    dict(selector='th', props=[('text-align', 'left')]),\n",
    "    dict(selector='td', props=[('text-align', 'left')]),\n",
    "    dict(selector='td:nth-child(2)', props=[('white-space', 'nowrap')]),\n",
    "]\n",
    "\n",
    "print(\"Total Bad UUIDs\", len(bad_uuid))\n",
    "print(\"____________________________________________\")\n",
    "\n",
    "html = (bad_uuid.style.set_table_styles(styles))\n",
    "display(html)"
   ]
  },
  {
   "cell_type": "markdown",
   "metadata": {},
   "source": [
    "## 500 Server Error -- OSIM unknown error\n",
    "* * *"
   ]
  },
  {
   "cell_type": "code",
   "execution_count": null,
   "metadata": {},
   "outputs": [],
   "source": [
    "# OSIM 500 Server Error Unknown Error\n",
    "server_error = publish_results.query('message == \"500 Server Error\"')\n",
    "\n",
    "styles = [\n",
    "    dict(selector='th', props=[('text-align', 'left')]),\n",
    "    dict(selector='td', props=[('text-align', 'left')]),\n",
    "    dict(selector='td:nth-child(2)', props=[('white-space', 'nowrap')]),\n",
    "]\n",
    "\n",
    "print(\"Total 500 Server Error:\", len(server_error))\n",
    "print(\"____________________________________________\")\n",
    "\n",
    "html = (server_error.style.set_table_styles(styles))\n",
    "display(html)"
   ]
  },
  {
   "cell_type": "markdown",
   "metadata": {},
   "source": [
    "## OSIM Service Unavailable\n",
    "* * *"
   ]
  },
  {
   "cell_type": "code",
   "execution_count": null,
   "metadata": {},
   "outputs": [],
   "source": [
    "# OSIM Service Unavailable\n",
    "server_down = publish_results.query('message == \"Service Unavailable\"')\n",
    "\n",
    "styles = [\n",
    "    dict(selector='th', props=[('text-align', 'left')]),\n",
    "    dict(selector='td', props=[('text-align', 'left')]),\n",
    "    dict(selector='td:nth-child(2)', props=[('white-space', 'nowrap')]),\n",
    "]\n",
    "\n",
    "print(\"Total OSIM Service Unavailable:\", len(server_down))\n",
    "print(\"____________________________________________\")\n",
    "\n",
    "html = (server_down.style.set_table_styles(styles))\n",
    "display(html)"
   ]
  },
  {
   "cell_type": "markdown",
   "metadata": {},
   "source": [
    "## Success\n",
    "* * *"
   ]
  },
  {
   "cell_type": "code",
   "execution_count": null,
   "metadata": {},
   "outputs": [],
   "source": [
    "# Success Results\n",
    "success = bad_uuid = publish_results.query('message == \"success\"')\n",
    "\n",
    "styles = [\n",
    "    dict(selector='th', props=[('text-align', 'left')]),\n",
    "    dict(selector='td', props=[('text-align', 'left')]),\n",
    "    dict(selector='td:nth-child(2)', props=[('white-space', 'nowrap')]),\n",
    "]\n",
    "\n",
    "print(\"Total Success:\", len(success))\n",
    "print(\"____________________________________________\")\n",
    "\n",
    "html = (success.style.set_table_styles(styles))\n",
    "display(html)"
   ]
  }
 ],
 "metadata": {
  "kernelspec": {
   "display_name": "Python 3.9.13 64-bit",
   "language": "python",
   "name": "python3"
  },
  "language_info": {
   "codemirror_mode": {
    "name": "ipython",
    "version": 3
   },
   "file_extension": ".py",
   "mimetype": "text/x-python",
   "name": "python",
   "nbconvert_exporter": "python",
   "pygments_lexer": "ipython3",
   "version": "3.9.13"
  },
  "orig_nbformat": 4,
  "vscode": {
   "interpreter": {
    "hash": "aee8b7b246df8f9039afb4144a1f6fd8d2ca17a180786b69acc140d282b71a49"
   }
  }
 },
 "nbformat": 4,
 "nbformat_minor": 2
}
